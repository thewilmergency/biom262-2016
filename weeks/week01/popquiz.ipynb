{
 "cells": [
  {
   "cell_type": "markdown",
   "metadata": {},
   "source": [
    "# Unix Training Exercise\n",
    "\n",
    "* Some of your quizzes and homework exercises will be automatically graded by [Jupyter notebook]().\n",
    "    * Details on creating your own Jupyter notebook will be covered later this lecture\n",
    "    * This quiz will **not** contribute to your grade.\n",
    "* By viewing this \"ipynb\" file in [github]() (rather than [nbviewer]()), you can also edit the content.\n",
    "    * If you double click on this markdown text block, you can delete it."
   ]
  },
  {
   "cell_type": "markdown",
   "metadata": {},
   "source": [
    "## Wilmer"
   ]
  },
  {
   "cell_type": "markdown",
   "metadata": {
    "collapsed": true,
    "nbgrader": {
     "grade": true,
     "grade_id": "Name",
     "locked": false,
     "solution": true
    }
   },
   "source": [
    "NULL"
   ]
  },
  {
   "cell_type": "markdown",
   "metadata": {},
   "source": [
    "## Input\n",
    "* Commands are executed serially in Jupyter notebook.\n",
    "* If you set a variable using the same kernel as the notebook.\n",
    "    * This notebook is written in iPython2 so the default language is python (version 2.7.1)\n",
    "    * The input code below below is a \"read-only\" code block.  \n",
    "        * You can execute it, but not edit it."
   ]
  },
  {
   "cell_type": "markdown",
   "metadata": {
    "collapsed": true
   },
   "source": [
    "## Enter your solutions in the code block below\n",
    "\n",
    "* `tr` is a command that replaces one character with another\n",
    "* It is useful for quickly adapting files to column-based parsing.\n",
    "* *reminder:* `%%bash` is used to enter unix shell commands\n",
    "\n",
    "**Example: Converting Water into Wine**"
   ]
  },
  {
   "cell_type": "code",
   "execution_count": 58,
   "metadata": {
    "collapsed": false
   },
   "outputs": [
    {
     "name": "stdout",
     "output_type": "stream",
     "text": [
      "wine.\n"
     ]
    }
   ],
   "source": [
    "%%bash\n",
    "echo \"water\" | tr 'a' 'i' | tr 't' 'n' | tr 'r' '.'"
   ]
  },
  {
   "cell_type": "markdown",
   "metadata": {},
   "source": [
    "**Using the example above *AND* the [unix section of lecture 1](http://nbviewer.ipython.org/github/biom262/biom262-2016/blob/master/weeks/week01/1_unix.ipynb) (or google), print string from `table.txt` that satisfies the following, in the order presented below:**\n",
    "1. **Of samples with `COUNT > 10`**\n",
    "2. **Sorted alphabetically by `SOURCE`**\n",
    "3. **Print the `SOURCE` for the ID with the largest `VALUE`**\n",
    "4. **(Output 1) Print count of occurrencess of the letter  'O' (or 'o')**\n",
    "5. **(Output 2) Print count of occurrences of the letter 'A' (or 'a')**  \n",
    "\n",
    "**The output should be presented as two lines, with a single number on each line.**\n",
    "    * Hint: use `man` to view all options for `sort`\n",
    "    * Don't forget to remove the header.\n",
    "    * *Your code will be evaluated.*  We know you can figure it out on your own, but future examples won't be this simple!\n",
    "    * *Bonus:* can you get the solution in 2 lines?"
   ]
  },
  {
   "cell_type": "code",
   "execution_count": 57,
   "metadata": {
    "collapsed": false,
    "nbgrader": {
     "grade": false,
     "grade_id": "Solution",
     "locked": false,
     "solution": true
    },
    "scrolled": true
   },
   "outputs": [
    {
     "name": "stdout",
     "output_type": "stream",
     "text": [
      "ID COUNT VALUE QUANTITY SOURCE\n",
      "a 11 100 200 alAskA\n",
      "d 90 200 600 Indonesia\n",
      "c 10 500 700 LouIsianA\n",
      "q 78 1 822 AntArctica\n",
      "z 500 70 800 oNtariO\n",
      "       0\n",
      "       3\n"
     ]
    }
   ],
   "source": [
    "%%bash\n",
    "echo \"ID COUNT VALUE QUANTITY SOURCE\" > table.txt\n",
    "echo \"a 11 100 200 alAskA\" >> table.txt\n",
    "echo \"d 90 200 600 Indonesia\" >> table.txt\n",
    "echo \"c 10 500 700 LouIsianA\" >> table.txt\n",
    "echo \"q 78 1 822 AntArctica\" >> table.txt\n",
    "echo \"z 500 70 800 oNtariO\" >> table.txt\n",
    "\n",
    "# Hit print to view the table.txt file.\n",
    "# Edit the text below this point to create your solution\n",
    "\n",
    "# presented to students\n",
    "\n",
    "cat table.txt\n",
    "\n",
    "# jamison's one line solution\n",
    "# expected result =\n",
    "# 0\n",
    "# 3"
   ]
  },
  {
   "cell_type": "markdown",
   "metadata": {},
   "source": [
    "# Additional Resources\n",
    "\n",
    "* If you are interested in more powerful unix string parsing methods.  Look online for more examples using `awk`, `sed`, and **regular expressions** (\"regexes\").\n",
    "* [NBGrader install methods, example and links](https://github.com/bioh4x/notebooks/blob/master/MyFirstNBGrader.ipynb)"
   ]
  }
 ],
 "metadata": {
  "celltoolbar": "Create Assignment",
  "kernelspec": {
   "display_name": "Python 2",
   "language": "python",
   "name": "python2"
  },
  "language_info": {
   "codemirror_mode": {
    "name": "ipython",
    "version": 2
   },
   "file_extension": ".py",
   "mimetype": "text/x-python",
   "name": "python",
   "nbconvert_exporter": "python",
   "pygments_lexer": "ipython2",
   "version": "2.7.11"
  }
 },
 "nbformat": 4,
 "nbformat_minor": 0
}
